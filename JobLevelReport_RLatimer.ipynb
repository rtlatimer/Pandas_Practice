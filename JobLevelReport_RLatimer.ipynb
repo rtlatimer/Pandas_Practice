{
 "cells": [
  {
   "cell_type": "markdown",
   "metadata": {},
   "source": [
    "### Job Posting Problem\n",
    "Given tables with information on job postings, create a Job level report of the Job, the Number of Total Views, Number of Unique Viewers, and Number of Unique job applicants.  One row per job."
   ]
  },
  {
   "cell_type": "code",
   "execution_count": 1,
   "metadata": {
    "collapsed": true
   },
   "outputs": [],
   "source": [
    "# import modules\n",
    "import pandas as pd\n",
    "import numpy as np"
   ]
  },
  {
   "cell_type": "code",
   "execution_count": 5,
   "metadata": {},
   "outputs": [
    {
     "name": "stdout",
     "output_type": "stream",
     "text": [
      "Fact Job View Table\n",
      "  JOB MEMBER_ID  TIMESTAMP\n",
      "0   A         1   1/1/2016\n",
      "1   A         1   1/3/2016\n",
      "2   A         2  2/10/2016\n",
      "3   B         3   1/5/2016\n",
      "4   B         4   1/5/2016\n",
      "5   C         1   1/5/2016\n",
      "\n",
      "Fact Job Applications Table\n",
      "  JOB MEMBER_ID TIMESTAMP\n",
      "0   A         1  1/2/2016\n",
      "1   A         2  2/1/2016\n",
      "2   A         2  2/2/2016\n",
      "3   A         5  2/5/2016\n",
      "4   B         4  1/5/2016\n"
     ]
    }
   ],
   "source": [
    "# create Table DataFrames\n",
    "fact_job_view = pd.DataFrame({'JOB': ['A','A','A','B','B','C'],\n",
    "                              'MEMBER_ID': ['1','1','2','3','4','1'],\n",
    "                              'TIMESTAMP': ['1/1/2016','1/3/2016','2/10/2016','1/5/2016','1/5/2016','1/5/2016']})\n",
    "\n",
    "fact_job_applications = pd.DataFrame({'JOB': ['A','A','A','A','B'],\n",
    "                                      'MEMBER_ID': ['1','2','2','5','4'],\n",
    "                                      'TIMESTAMP': ['1/2/2016','2/1/2016','2/2/2016','2/5/2016','1/5/2016']})\n",
    "\n",
    "print \"Fact Job View Table\"\n",
    "print fact_job_view\n",
    "print \"\"\n",
    "print \"Fact Job Applications Table\"\n",
    "\n",
    "print fact_job_applications"
   ]
  },
  {
   "cell_type": "code",
   "execution_count": 6,
   "metadata": {},
   "outputs": [
    {
     "data": {
      "text/html": [
       "<div>\n",
       "<style>\n",
       "    .dataframe thead tr:only-child th {\n",
       "        text-align: right;\n",
       "    }\n",
       "\n",
       "    .dataframe thead th {\n",
       "        text-align: left;\n",
       "    }\n",
       "\n",
       "    .dataframe tbody tr th {\n",
       "        vertical-align: top;\n",
       "    }\n",
       "</style>\n",
       "<table border=\"1\" class=\"dataframe\">\n",
       "  <thead>\n",
       "    <tr style=\"text-align: right;\">\n",
       "      <th></th>\n",
       "      <th>JOB</th>\n",
       "      <th>total_views</th>\n",
       "      <th>total_unique_views</th>\n",
       "    </tr>\n",
       "  </thead>\n",
       "  <tbody>\n",
       "    <tr>\n",
       "      <th>0</th>\n",
       "      <td>A</td>\n",
       "      <td>3</td>\n",
       "      <td>2</td>\n",
       "    </tr>\n",
       "    <tr>\n",
       "      <th>1</th>\n",
       "      <td>B</td>\n",
       "      <td>2</td>\n",
       "      <td>2</td>\n",
       "    </tr>\n",
       "    <tr>\n",
       "      <th>2</th>\n",
       "      <td>C</td>\n",
       "      <td>1</td>\n",
       "      <td>1</td>\n",
       "    </tr>\n",
       "  </tbody>\n",
       "</table>\n",
       "</div>"
      ],
      "text/plain": [
       "  JOB  total_views  total_unique_views\n",
       "0   A            3                   2\n",
       "1   B            2                   2\n",
       "2   C            1                   1"
      ]
     },
     "execution_count": 6,
     "metadata": {},
     "output_type": "execute_result"
    }
   ],
   "source": [
    "# Return Job, the # of Views, # of Unique Viewers from Fact Job View Table\n",
    "fact_job_view_feats = fact_job_view.groupby('JOB', as_index=False)['MEMBER_ID'].aggregate({'total_unique_views':'nunique', 'total_views':'count'})\n",
    "fact_job_view_feats"
   ]
  },
  {
   "cell_type": "code",
   "execution_count": 7,
   "metadata": {},
   "outputs": [
    {
     "data": {
      "text/html": [
       "<div>\n",
       "<style>\n",
       "    .dataframe thead tr:only-child th {\n",
       "        text-align: right;\n",
       "    }\n",
       "\n",
       "    .dataframe thead th {\n",
       "        text-align: left;\n",
       "    }\n",
       "\n",
       "    .dataframe tbody tr th {\n",
       "        vertical-align: top;\n",
       "    }\n",
       "</style>\n",
       "<table border=\"1\" class=\"dataframe\">\n",
       "  <thead>\n",
       "    <tr style=\"text-align: right;\">\n",
       "      <th></th>\n",
       "      <th>JOB</th>\n",
       "      <th>unique_applicants</th>\n",
       "    </tr>\n",
       "  </thead>\n",
       "  <tbody>\n",
       "    <tr>\n",
       "      <th>0</th>\n",
       "      <td>A</td>\n",
       "      <td>3</td>\n",
       "    </tr>\n",
       "    <tr>\n",
       "      <th>1</th>\n",
       "      <td>B</td>\n",
       "      <td>1</td>\n",
       "    </tr>\n",
       "  </tbody>\n",
       "</table>\n",
       "</div>"
      ],
      "text/plain": [
       "  JOB  unique_applicants\n",
       "0   A                  3\n",
       "1   B                  1"
      ]
     },
     "execution_count": 7,
     "metadata": {},
     "output_type": "execute_result"
    }
   ],
   "source": [
    "# Return # of Unique Applicants from Fact Job Applications Table\n",
    "fact_job_app_feats = fact_job_applications.groupby('JOB', as_index=False)['MEMBER_ID'].aggregate({'unique_applicants':'nunique'})\n",
    "fact_job_app_feats"
   ]
  },
  {
   "cell_type": "code",
   "execution_count": 8,
   "metadata": {},
   "outputs": [
    {
     "data": {
      "text/html": [
       "<div>\n",
       "<style>\n",
       "    .dataframe thead tr:only-child th {\n",
       "        text-align: right;\n",
       "    }\n",
       "\n",
       "    .dataframe thead th {\n",
       "        text-align: left;\n",
       "    }\n",
       "\n",
       "    .dataframe tbody tr th {\n",
       "        vertical-align: top;\n",
       "    }\n",
       "</style>\n",
       "<table border=\"1\" class=\"dataframe\">\n",
       "  <thead>\n",
       "    <tr style=\"text-align: right;\">\n",
       "      <th></th>\n",
       "      <th>JOB</th>\n",
       "      <th>total_views</th>\n",
       "      <th>total_unique_views</th>\n",
       "      <th>unique_applicants</th>\n",
       "    </tr>\n",
       "  </thead>\n",
       "  <tbody>\n",
       "    <tr>\n",
       "      <th>0</th>\n",
       "      <td>A</td>\n",
       "      <td>3</td>\n",
       "      <td>2</td>\n",
       "      <td>3.0</td>\n",
       "    </tr>\n",
       "    <tr>\n",
       "      <th>1</th>\n",
       "      <td>B</td>\n",
       "      <td>2</td>\n",
       "      <td>2</td>\n",
       "      <td>1.0</td>\n",
       "    </tr>\n",
       "    <tr>\n",
       "      <th>2</th>\n",
       "      <td>C</td>\n",
       "      <td>1</td>\n",
       "      <td>1</td>\n",
       "      <td>0.0</td>\n",
       "    </tr>\n",
       "  </tbody>\n",
       "</table>\n",
       "</div>"
      ],
      "text/plain": [
       "  JOB  total_views  total_unique_views  unique_applicants\n",
       "0   A            3                   2                3.0\n",
       "1   B            2                   2                1.0\n",
       "2   C            1                   1                0.0"
      ]
     },
     "execution_count": 8,
     "metadata": {},
     "output_type": "execute_result"
    }
   ],
   "source": [
    "# Combine the two tables using a left join\n",
    "job_level_report = pd.merge(fact_job_view_feats, fact_job_app_feats, how='left', on=\"JOB\").fillna(0)\n",
    "job_level_report"
   ]
  }
 ],
 "metadata": {
  "kernelspec": {
   "display_name": "Python 2",
   "language": "python",
   "name": "python2"
  },
  "language_info": {
   "codemirror_mode": {
    "name": "ipython",
    "version": 2
   },
   "file_extension": ".py",
   "mimetype": "text/x-python",
   "name": "python",
   "nbconvert_exporter": "python",
   "pygments_lexer": "ipython2",
   "version": "2.7.13"
  }
 },
 "nbformat": 4,
 "nbformat_minor": 2
}
